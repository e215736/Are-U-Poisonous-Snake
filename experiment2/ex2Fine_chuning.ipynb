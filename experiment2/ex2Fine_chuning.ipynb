{
 "cells": [
  {
   "cell_type": "markdown",
   "id": "e4f53703",
   "metadata": {},
   "source": [
    "# 1. Load VGG16 Model"
   ]
  },
  {
   "cell_type": "code",
   "execution_count": null,
   "id": "6504f712",
   "metadata": {},
   "outputs": [],
   "source": [
    "import tensorflow as tf\n",
    "import os"
   ]
  },
  {
   "cell_type": "code",
   "execution_count": null,
   "id": "039d1644",
   "metadata": {},
   "outputs": [],
   "source": [
    "#学習済みモデルのVGG16をインポート\n",
    "from keras.applications.vgg16 import VGG16"
   ]
  },
  {
   "cell_type": "code",
   "execution_count": null,
   "id": "f20065e0",
   "metadata": {},
   "outputs": [],
   "source": [
    "#weights=\"imagenet\"で、VGG16モデルの重みをImageNetデータセットから事前に学習されたものに設定する\n",
    "#全結合層以外のVGG16のlayerを用いる。\n",
    "\n",
    "base_model = VGG16(weights=\"imagenet\", include_top=False, input_shape=(256, 256, 3))\n",
    "\n",
    "#base_modelの重みを更新不可に設定する\n",
    "base_model.trainable = False \n",
    "\n",
    "#ディープラーニングモデルを出力する。\n",
    "print(\"model summary \")\n",
    "\n",
    "base_model.summary()\n",
    "\n",
    "#重みが本当に更新不可か確認する\n",
    "print(\"Is layer Not trainable weights?\")\n",
    "for layer in base_model.layers:\n",
    "    print(layer, layer.trainable)"
   ]
  },
  {
   "cell_type": "markdown",
   "id": "6b642753",
   "metadata": {},
   "source": [
    "# 2. Fine Chuning Model"
   ]
  },
  {
   "cell_type": "code",
   "execution_count": null,
   "id": "7f0b0444",
   "metadata": {},
   "outputs": [],
   "source": [
    "from keras.models import Sequential\n",
    "from keras.layers import Conv2D, MaxPooling2D, Dense, Flatten, Dropout\n",
    "from keras.callbacks import EarlyStopping#学習に変化がなければ、学習を止めるモジュール"
   ]
  },
  {
   "cell_type": "code",
   "execution_count": null,
   "id": "acb4de14",
   "metadata": {},
   "outputs": [],
   "source": [
    "#sequential neural network modelを作成。model.addでlayerを追加する。\n",
    "\n",
    "#空のシーケンシャルモデルを作成\n",
    "#シーケンシャルモデル:ニューラルネットワークモデルを構築するための層の線形スタック\n",
    "model = Sequential()\n",
    "\n",
    "#VGG16のlayerから先にaddする\n",
    "model.add(base_model)\n",
    "\n",
    "#追加の畳み込み層の追加\n",
    "model.add(Conv2D(64, kernel_size=3, padding=\"same\", activation=\"relu\"))\n",
    "model.add(MaxPooling2D())\n",
    "model.add(Dropout(0.25))\n",
    "\n",
    "#全結合層の追加\n",
    "model.add(Flatten())\n",
    "model.add(Dense(256, activation='relu'))\n",
    "model.add(Dropout(0.5))\n",
    "model.add(Dense(128, activation=\"relu\")) \n",
    "model.add(Dense(64, activation=\"relu\")) \n",
    "model.add(Dropout(0.5))\n",
    "\n",
    "#0,1出力が欲しいので、sigmoid間数を用いる\n",
    "model.add(Dense(1, activation='sigmoid'))"
   ]
  },
  {
   "cell_type": "code",
   "execution_count": null,
   "id": "1e572cff",
   "metadata": {},
   "outputs": [],
   "source": [
    "#vgg16のbase_modelの重みが更新不可能であり、\n",
    "#追加したlayerの重みが更新可能か確認するコード\n",
    "for layer in model.layers:\n",
    "    print(layer, layer.trainable )\n",
    "\n",
    "print(len(model.trainable_weights))"
   ]
  },
  {
   "cell_type": "markdown",
   "id": "bb411123",
   "metadata": {},
   "source": [
    "モデルのコンパイルを行う。"
   ]
  },
  {
   "cell_type": "code",
   "execution_count": null,
   "id": "dc9b0a63",
   "metadata": {},
   "outputs": [],
   "source": [
    "#Adamオプティマイザーを使用\n",
    "#tf.losses.BinaryCrossentropy()を指定して損失関数として二値交差エントロピーを使用する。\n",
    "#評価関数としてaccuracyを使用する.\n",
    "\n",
    "model.compile(\n",
    "    optimizer= 'adam', \n",
    "    loss=tf.losses.BinaryCrossentropy(),\n",
    "    metrics=['accuracy']\n",
    ")"
   ]
  },
  {
   "cell_type": "code",
   "execution_count": null,
   "id": "bc6f406a",
   "metadata": {},
   "outputs": [],
   "source": [
    "#モデルの構造を表示。\n",
    "model.summary()"
   ]
  },
  {
   "cell_type": "markdown",
   "id": "3cb8382a",
   "metadata": {},
   "source": [
    "# 3. Remove dodgy images"
   ]
  },
  {
   "cell_type": "code",
   "execution_count": null,
   "id": "1692126c",
   "metadata": {},
   "outputs": [],
   "source": [
    "import cv2\n",
    "import imghdr"
   ]
  },
  {
   "cell_type": "code",
   "execution_count": 1,
   "id": "91272522",
   "metadata": {},
   "outputs": [],
   "source": [
    "#ディレクトリ名を指定\n",
    "data_dir = 'dataset1' "
   ]
  },
  {
   "cell_type": "code",
   "execution_count": null,
   "id": "14b756c0",
   "metadata": {},
   "outputs": [],
   "source": [
    "#受けつける拡張子の指定\n",
    "image_exts = ['jpeg','jpg', 'bmp', 'png']"
   ]
  },
  {
   "cell_type": "code",
   "execution_count": null,
   "id": "edf647ce",
   "metadata": {},
   "outputs": [],
   "source": [
    "#data_dirの中身のディレクトリを出力する。\n",
    "#毒あり毒なしそれぞれのディレクトリの名前が出力されれば成功、\n",
    "for image_class in os.listdir(data_dir): \n",
    "    print(image_class)"
   ]
  },
  {
   "cell_type": "code",
   "execution_count": null,
   "id": "790d3a5d",
   "metadata": {},
   "outputs": [],
   "source": [
    "#data_dirの中に.DS_Storeがあった場合取り除くコード。\n",
    "import os \n",
    "\n",
    "for image_class in os.listdir(data_dir):\n",
    "    if image_class == '.DS_Store':\n",
    "        file_path = os.path.join(data_dir, image_class)\n",
    "        os.remove(file_path)\n",
    "    else:\n",
    "        print(image_class)"
   ]
  },
  {
   "cell_type": "code",
   "execution_count": null,
   "id": "b61a7ad3",
   "metadata": {},
   "outputs": [],
   "source": [
    "#.DS_Storeが消えているのを確認\n",
    "for image_class in os.listdir(data_dir): \n",
    "    print(image_class)"
   ]
  },
  {
   "cell_type": "code",
   "execution_count": null,
   "id": "9d2c6d4a",
   "metadata": {},
   "outputs": [],
   "source": [
    "#対象としていない拡張子と壊れている画像ファイルをremoveする。\n",
    "for image_class in os.listdir(data_dir): \n",
    "    for image in os.listdir(os.path.join(data_dir, image_class)):\n",
    "        image_path = os.path.join(data_dir, image_class, image)\n",
    "        try: \n",
    "            img = cv2.imread(image_path)\n",
    "            tip = imghdr.what(image_path)\n",
    "            if tip not in image_exts: \n",
    "                print('Image not in ext list {}'.format(image_path))\n",
    "                os.remove(image_path)\n",
    "        except Exception as e: \n",
    "            print('Issue with image {}'.format(image_path))\n",
    "             os.remove(image_path)"
   ]
  },
  {
   "cell_type": "markdown",
   "id": "6a9011ff",
   "metadata": {},
   "source": [
    "0と1がどのクラスに対応しているのかを出力する。"
   ]
  },
  {
   "cell_type": "code",
   "execution_count": null,
   "id": "6a79c485",
   "metadata": {},
   "outputs": [],
   "source": [
    "class_mapping = {}  # クラス名とラベルの対応付けを格納する辞書\n",
    "\n",
    "for label, image_class in enumerate(os.listdir(data_dir)):\n",
    "    if image_class == '.DS_Store':\n",
    "        file_path = os.path.join(data_dir, image_class)\n",
    "        os.remove(file_path)\n",
    "    else:\n",
    "        class_name = image_class.split('_')[0]\n",
    "        print(f\"{class_name}: {label}\")\n",
    "        class_mapping[label] = class_name\n",
    "\n",
    "# class_mapping辞書を修正して、ラベルを0と1に変更する。\n",
    "class_mapping = {label: label - 1 for label in class_mapping}"
   ]
  },
  {
   "cell_type": "markdown",
   "id": "9ae59f45",
   "metadata": {},
   "source": [
    "# 4. Load Data"
   ]
  },
  {
   "cell_type": "code",
   "execution_count": null,
   "id": "e5d51486",
   "metadata": {},
   "outputs": [],
   "source": [
    "import numpy as np\n",
    "from matplotlib import pyplot as plt"
   ]
  },
  {
   "cell_type": "code",
   "execution_count": null,
   "id": "c8d64916",
   "metadata": {},
   "outputs": [],
   "source": [
    "#指定されたディレクトリから画像データセットを作成\n",
    "data= tf.keras.utils.image_dataset_from_directory('dataset1')"
   ]
  },
  {
   "cell_type": "code",
   "execution_count": null,
   "id": "9ff2839d",
   "metadata": {},
   "outputs": [],
   "source": [
    "#データセットの要素をnumpy配列として返すiteratorを作成。\n",
    "data_iterator = data.as_numpy_iterator()"
   ]
  },
  {
   "cell_type": "code",
   "execution_count": null,
   "id": "fc6e56d7",
   "metadata": {},
   "outputs": [],
   "source": [
    "#イテレータから次の要素を取得する\n",
    "batch = data_iterator.next()\n",
    "\n",
    "#batch0:画像データ\n",
    "#batch1: 0 or1（毒あり or 毒なしラベル）"
   ]
  },
  {
   "cell_type": "code",
   "execution_count": null,
   "id": "9d5e5c4c",
   "metadata": {},
   "outputs": [],
   "source": [
    "#バッチの上から４つ選び、プロットする。\n",
    "fig, ax = plt.subplots(ncols=4, figsize=(20,20))\n",
    "for idx, img in enumerate(batch[0][:4]):\n",
    "    ax[idx].imshow(img.astype(int))\n",
    "    ax[idx].title.set_text(batch[1][idx])"
   ]
  },
  {
   "cell_type": "markdown",
   "id": "ec7ea058",
   "metadata": {},
   "source": [
    "# 5. Scale Data"
   ]
  },
  {
   "cell_type": "code",
   "execution_count": null,
   "id": "054a6555",
   "metadata": {},
   "outputs": [],
   "source": [
    "#x:image\n",
    "#y:target\n",
    "#scale data to 0 through 1\n",
    "\n",
    "data = data.map(lambda x,y: (x/255, y))"
   ]
  },
  {
   "cell_type": "code",
   "execution_count": null,
   "id": "04624c3e",
   "metadata": {},
   "outputs": [],
   "source": [
    "#データセットの要素をnumpy配列として返すiteratorを作成。\n",
    "#イテレータから次のバッチを取得する\n",
    "\n",
    "data.as_numpy_iterator().next()"
   ]
  },
  {
   "cell_type": "markdown",
   "id": "4fbab679",
   "metadata": {},
   "source": [
    "# 6. Split Data"
   ]
  },
  {
   "cell_type": "code",
   "execution_count": null,
   "id": "ad8b34a4",
   "metadata": {},
   "outputs": [],
   "source": [
    "#バッチ数をプリント\n",
    "len(data)"
   ]
  },
  {
   "cell_type": "code",
   "execution_count": null,
   "id": "05e7c87f",
   "metadata": {},
   "outputs": [],
   "source": [
    "train_size = int(len(data) * 0.7)\n",
    "val_size = int(len(data) * 0.2)\n",
    "test_size = len(data) - train_size - val_size"
   ]
  },
  {
   "cell_type": "code",
   "execution_count": null,
   "id": "7f35d141",
   "metadata": {},
   "outputs": [],
   "source": [
    "以下の3変数の合計がlen(data)分になるようにする。"
   ]
  },
  {
   "cell_type": "code",
   "execution_count": null,
   "id": "43b14f24",
   "metadata": {},
   "outputs": [],
   "source": [
    "len(train_size )"
   ]
  },
  {
   "cell_type": "code",
   "execution_count": null,
   "id": "a809811e",
   "metadata": {},
   "outputs": [],
   "source": [
    "len(val_size)"
   ]
  },
  {
   "cell_type": "code",
   "execution_count": null,
   "id": "9db1e89c",
   "metadata": {},
   "outputs": [],
   "source": [
    "len(test_size)"
   ]
  },
  {
   "cell_type": "code",
   "execution_count": null,
   "id": "5cc023c9",
   "metadata": {},
   "outputs": [],
   "source": [
    "#take():how much we take from dataset\n",
    "#skip():usually,skip take() area \n",
    "\n",
    "train = data.take(train_size)\n",
    "val = data.skip(train_size).take(val_size)\n",
    "test = data.skip(train_size+val_size).take(test_size)"
   ]
  },
  {
   "cell_type": "markdown",
   "id": "79bafe61",
   "metadata": {},
   "source": [
    "# 7. Train"
   ]
  },
  {
   "cell_type": "code",
   "execution_count": null,
   "id": "5bfd672e",
   "metadata": {},
   "outputs": [],
   "source": [
    "#ログファイルを保存するディレクトリを指定\n",
    "logdir='logs'"
   ]
  },
  {
   "cell_type": "code",
   "execution_count": null,
   "id": "6fcd5ee1",
   "metadata": {},
   "outputs": [],
   "source": [
    "#fit間数にわたすため、コールバックを作成\n",
    "tensorboard_callback = tf.keras.callbacks.TensorBoard(log_dir=logdir)"
   ]
  },
  {
   "cell_type": "code",
   "execution_count": null,
   "id": "05182902",
   "metadata": {},
   "outputs": [],
   "source": [
    "#学習に変化がない場合、中断させる。今回の場合10エポック変化がない場合、ストップ。\n",
    "early_stop = EarlyStopping(monitor='val_loss', patience=10)"
   ]
  },
  {
   "cell_type": "code",
   "execution_count": null,
   "id": "37b95a49",
   "metadata": {
    "scrolled": false
   },
   "outputs": [],
   "source": [
    "#epoc数20でモデルを学習させる。\n",
    "\n",
    "hist = model.fit(train, epochs=20, validation_data=val, callbacks=[tensorboard_callback, early_stop])"
   ]
  },
  {
   "cell_type": "markdown",
   "id": "ef8ab8dd",
   "metadata": {},
   "source": [
    "# 8. Plot Performance"
   ]
  },
  {
   "cell_type": "markdown",
   "id": "621b16c4",
   "metadata": {},
   "source": [
    "#lossとval_lossをプロット"
   ]
  },
  {
   "cell_type": "code",
   "execution_count": null,
   "id": "33f61e45",
   "metadata": {},
   "outputs": [],
   "source": [
    "fig = plt.figure()\n",
    "plt.plot(hist.history['loss'], color='teal', label='loss')\n",
    "plt.plot(hist.history['val_loss'], color='orange', label='val_loss')\n",
    "fig.suptitle('Loss', fontsize=20)\n",
    "plt.legend(loc=\"upper left\")\n",
    "plt.show()"
   ]
  },
  {
   "cell_type": "markdown",
   "id": "988089c0",
   "metadata": {},
   "source": [
    "#accuracyとval_accuracyをプロット"
   ]
  },
  {
   "cell_type": "code",
   "execution_count": null,
   "id": "fba64798",
   "metadata": {},
   "outputs": [],
   "source": [
    "fig = plt.figure()\n",
    "plt.plot(hist.history['accuracy'], color='teal', label='accuracy')\n",
    "plt.plot(hist.history['val_accuracy'], color='orange', label='val_accuracy')\n",
    "fig.suptitle('Accuracy', fontsize=20)\n",
    "plt.legend(loc=\"upper left\")\n",
    "plt.show()"
   ]
  },
  {
   "cell_type": "markdown",
   "id": "1d55f2e5",
   "metadata": {},
   "source": [
    "# 9. Evaluate by test"
   ]
  },
  {
   "cell_type": "markdown",
   "id": "27c7f8f5",
   "metadata": {},
   "source": [
    "学習済みモデルの評価を行う"
   ]
  },
  {
   "cell_type": "code",
   "execution_count": null,
   "id": "e34032c8",
   "metadata": {},
   "outputs": [],
   "source": [
    "from keras.metrics import Precision, Recall, BinaryAccuracy"
   ]
  },
  {
   "cell_type": "code",
   "execution_count": null,
   "id": "af2a88ed",
   "metadata": {},
   "outputs": [],
   "source": [
    "pre = Precision()\n",
    "re = Recall()\n",
    "acc = BinaryAccuracy()"
   ]
  },
  {
   "cell_type": "code",
   "execution_count": null,
   "id": "2d950b58",
   "metadata": {},
   "outputs": [],
   "source": [
    "#精度、再現率、および二値分類精度を計算し、\n",
    "#真のラベルyと予測されたラベルyhatを比べる\n",
    "\n",
    "for batch in test.as_numpy_iterator(): \n",
    "    X, y = batch\n",
    "    yhat = model.predict(X)\n",
    "    pre.update_state(y, yhat)\n",
    "    re.update_state(y, yhat)\n",
    "    acc.update_state(y, yhat)"
   ]
  },
  {
   "cell_type": "code",
   "execution_count": null,
   "id": "c4c767ae",
   "metadata": {},
   "outputs": [],
   "source": [
    "#それぞれの出力値は1に近いほどよい\n",
    "print(pre.result(), re.result(), acc.result())"
   ]
  },
  {
   "cell_type": "markdown",
   "id": "855af6d8",
   "metadata": {},
   "source": [
    "# 10. Save the Model"
   ]
  },
  {
   "cell_type": "markdown",
   "id": "8e1c9630",
   "metadata": {},
   "source": [
    "学習モデルの保存を行う。"
   ]
  },
  {
   "cell_type": "code",
   "execution_count": null,
   "id": "5135b3db",
   "metadata": {},
   "outputs": [],
   "source": [
    "from keras.models import load_model"
   ]
  },
  {
   "cell_type": "code",
   "execution_count": null,
   "id": "2defc4dc",
   "metadata": {},
   "outputs": [],
   "source": [
    "#modelsフォルダに学習済みモデルを保存\n",
    "model.save(os.path.join('models','snake_poisonClassifierFC1.h5'))"
   ]
  },
  {
   "cell_type": "markdown",
   "id": "431491d3",
   "metadata": {},
   "source": [
    "# 11.load the model"
   ]
  },
  {
   "cell_type": "markdown",
   "id": "a1f8abb0",
   "metadata": {},
   "source": [
    "以下は正しくloadして動作するかをチェックするコード。"
   ]
  },
  {
   "cell_type": "code",
   "execution_count": null,
   "id": "00076a8a",
   "metadata": {},
   "outputs": [],
   "source": [
    "#保存したモデルをloadする\n",
    "new_model = load_model('models/snake_poisonClassifierFC1.h5')"
   ]
  },
  {
   "cell_type": "code",
   "execution_count": null,
   "id": "8cc620e4",
   "metadata": {},
   "outputs": [],
   "source": [
    "#精度、再現率、および二値分類精度を計算し、\n",
    "#真のラベルyと予測されたラベルyhatを比べる\n",
    "for batch in test.as_numpy_iterator(): \n",
    "    X, y = batch\n",
    "    yhat = model.predict(X)\n",
    "    pre.update_state(y, yhat)\n",
    "    re.update_state(y, yhat)\n",
    "    acc.update_state(y, yhat)"
   ]
  },
  {
   "cell_type": "code",
   "execution_count": null,
   "id": "b374647d",
   "metadata": {},
   "outputs": [],
   "source": [
    "#それぞれの出力値は1に近いほどよい\n",
    "print(pre.result(), re.result(), acc.result())"
   ]
  }
 ],
 "metadata": {
  "kernelspec": {
   "display_name": "Python 3 (ipykernel)",
   "language": "python",
   "name": "python3"
  },
  "language_info": {
   "codemirror_mode": {
    "name": "ipython",
    "version": 3
   },
   "file_extension": ".py",
   "mimetype": "text/x-python",
   "name": "python",
   "nbconvert_exporter": "python",
   "pygments_lexer": "ipython3",
   "version": "3.10.11"
  }
 },
 "nbformat": 4,
 "nbformat_minor": 5
}
