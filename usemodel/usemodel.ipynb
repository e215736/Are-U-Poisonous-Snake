{
 "cells": [
  {
   "cell_type": "markdown",
   "id": "98a7022f",
   "metadata": {},
   "source": [
    "# use trained model to another dataset"
   ]
  },
  {
   "cell_type": "markdown",
   "id": "b9b769eb",
   "metadata": {},
   "source": [
    "# 1.remove doggy image"
   ]
  },
  {
   "cell_type": "code",
   "execution_count": null,
   "id": "d3b512b6",
   "metadata": {},
   "outputs": [],
   "source": [
    "import tensorflow as tf\n",
    "import os"
   ]
  },
  {
   "cell_type": "code",
   "execution_count": null,
   "id": "372b8bb3",
   "metadata": {},
   "outputs": [],
   "source": [
    "import cv2\n",
    "import imghdr"
   ]
  },
  {
   "cell_type": "code",
   "execution_count": null,
   "id": "04b75115",
   "metadata": {},
   "outputs": [],
   "source": [
    "#２クラスのフォルダが格納されているディレクトリ名を指定\n",
    "data_dir2 = 'snake-dataset-indian' "
   ]
  },
  {
   "cell_type": "code",
   "execution_count": null,
   "id": "bbb9516f",
   "metadata": {},
   "outputs": [],
   "source": [
    "#受けつける拡張子の指定\n",
    "image_exts = ['jpeg','jpg', 'bmp', 'png']"
   ]
  },
  {
   "cell_type": "code",
   "execution_count": null,
   "id": "70f5fea1",
   "metadata": {},
   "outputs": [],
   "source": [
    "#data_dirの中身のディレクトリを出力する。\n",
    "#毒あり毒なしそれぞれのディレクトリの名前が出力されれば成功、\n",
    "for image_class in os.listdir(data_dir2): \n",
    "    print(image_class)"
   ]
  },
  {
   "cell_type": "code",
   "execution_count": null,
   "id": "597f4a2b",
   "metadata": {},
   "outputs": [],
   "source": [
    "#data_dirの中に.DS_Storeがあった場合取り除くコード。\n",
    "\n",
    "for image_class in os.listdir(data_dir2):\n",
    "    if image_class == '.DS_Store':\n",
    "        file_path = os.path.join(data_dir2, image_class)\n",
    "        os.remove(file_path)\n",
    "    else:\n",
    "        print(image_class)"
   ]
  },
  {
   "cell_type": "code",
   "execution_count": null,
   "id": "49631cd0",
   "metadata": {},
   "outputs": [],
   "source": [
    "#.DS_Storeが消えているのを確認\n",
    "for image_class in os.listdir(data_dir2): \n",
    "    print(image_class)"
   ]
  },
  {
   "cell_type": "code",
   "execution_count": null,
   "id": "eb9eba39",
   "metadata": {},
   "outputs": [],
   "source": [
    "#対象としていない拡張子と壊れている画像ファイルをremoveする。\n",
    "for image_class in os.listdir(data_dir2): \n",
    "    for image in os.listdir(os.path.join(data_dir2, image_class)):\n",
    "        image_path = os.path.join(data_dir2, image_class, image)\n",
    "        try: \n",
    "            img = cv2.imread(image_path)\n",
    "            tip = imghdr.what(image_path)\n",
    "            if tip not in image_exts: \n",
    "                print('Image not in ext list {}'.format(image_path))\n",
    "                os.remove(image_path)\n",
    "        except Exception as e: \n",
    "            print('Issue with image {}'.format(image_path))\n",
    "            os.remove(image_path)"
   ]
  },
  {
   "cell_type": "markdown",
   "id": "b9fb97d4",
   "metadata": {},
   "source": [
    "0と1がどのクラスに対応しているのかを出力する。"
   ]
  },
  {
   "cell_type": "code",
   "execution_count": null,
   "id": "07060892",
   "metadata": {},
   "outputs": [],
   "source": [
    "class_mapping = {}   # クラス名とラベルの対応付けを格納する辞書\n",
    "\n",
    "for label, image_class in enumerate(os.listdir(data_dir2)):\n",
    "    if image_class == '.DS_Store':\n",
    "        file_path = os.path.join(data_dir2, image_class)\n",
    "        os.remove(file_path)\n",
    "    else:\n",
    "        class_name = image_class.split('_')[0]\n",
    "        print(f\"{class_name}: {label}\")\n",
    "        class_mapping[label] = class_name   "
   ]
  },
  {
   "cell_type": "code",
   "execution_count": null,
   "id": "9ab302f1",
   "metadata": {},
   "outputs": [],
   "source": [
    "print(class_mapping)"
   ]
  },
  {
   "cell_type": "markdown",
   "id": "d4239d5f",
   "metadata": {},
   "source": [
    "# 2.load data"
   ]
  },
  {
   "cell_type": "code",
   "execution_count": null,
   "id": "919782b3",
   "metadata": {},
   "outputs": [],
   "source": [
    "import numpy as np\n",
    "from matplotlib import pyplot as plt"
   ]
  },
  {
   "cell_type": "code",
   "execution_count": null,
   "id": "888e4788",
   "metadata": {},
   "outputs": [],
   "source": [
    "#指定されたディレクトリから画像データセットを作成\n",
    "data= tf.keras.utils.image_dataset_from_directory('snake-dataset-indian')"
   ]
  },
  {
   "cell_type": "code",
   "execution_count": null,
   "id": "12ed2535",
   "metadata": {},
   "outputs": [],
   "source": [
    "#データセットの要素をnumpy配列として返すiteratorを作成。\n",
    "data_iterator = data.as_numpy_iterator()"
   ]
  },
  {
   "cell_type": "code",
   "execution_count": null,
   "id": "884d48d3",
   "metadata": {},
   "outputs": [],
   "source": [
    "#イテレータから次の要素を取得する\n",
    "batch = data_iterator.next()"
   ]
  },
  {
   "cell_type": "code",
   "execution_count": null,
   "id": "d27e6682",
   "metadata": {},
   "outputs": [],
   "source": [
    "#バッチの上から４つ選び、プロットする。\n",
    "\n",
    "fig, ax = plt.subplots(ncols=4, figsize=(20,20))\n",
    "for idx, img in enumerate(batch[0][:4]):\n",
    "    ax[idx].imshow(img.astype(int))\n",
    "    ax[idx].title.set_text(batch[1][idx])"
   ]
  },
  {
   "cell_type": "markdown",
   "id": "48e05295",
   "metadata": {},
   "source": [
    "# 3.scale data"
   ]
  },
  {
   "cell_type": "code",
   "execution_count": null,
   "id": "80c71e72",
   "metadata": {},
   "outputs": [],
   "source": [
    "#x:image\n",
    "#y:target\n",
    "#scale data to 0 through 1\n",
    "\n",
    "data = data.map(lambda x,y: (x/255, y))"
   ]
  },
  {
   "cell_type": "code",
   "execution_count": null,
   "id": "3bac0d9f",
   "metadata": {},
   "outputs": [],
   "source": [
    "#データセットの要素をnumpy配列として返すiteratorを作成。\n",
    "#イテレータから次のバッチを取得する\n",
    "\n",
    "data.as_numpy_iterator().next()"
   ]
  },
  {
   "cell_type": "markdown",
   "id": "595972f3",
   "metadata": {},
   "source": [
    "# 4.split data"
   ]
  },
  {
   "cell_type": "code",
   "execution_count": null,
   "id": "7adea62b",
   "metadata": {},
   "outputs": [],
   "source": [
    "#バッチ数をプリント\n",
    "len(data)"
   ]
  },
  {
   "cell_type": "code",
   "execution_count": null,
   "id": "83e7e192",
   "metadata": {},
   "outputs": [],
   "source": [
    "train_size = int(len(data) * 0.7)\n",
    "val_size = int(len(data) * 0.2)\n",
    "test_size = len(data) - train_size - val_size"
   ]
  },
  {
   "cell_type": "markdown",
   "id": "aecabb60",
   "metadata": {},
   "source": [
    "以下の3変数の合計がlen(data)分になるようにする。"
   ]
  },
  {
   "cell_type": "code",
   "execution_count": null,
   "id": "2f29f91f",
   "metadata": {},
   "outputs": [],
   "source": [
    "len(train_size )"
   ]
  },
  {
   "cell_type": "code",
   "execution_count": null,
   "id": "e897068c",
   "metadata": {},
   "outputs": [],
   "source": [
    "len(val_size)"
   ]
  },
  {
   "cell_type": "code",
   "execution_count": null,
   "id": "52218dbd",
   "metadata": {},
   "outputs": [],
   "source": [
    "len(test_size)"
   ]
  },
  {
   "cell_type": "code",
   "execution_count": null,
   "id": "65d78644",
   "metadata": {},
   "outputs": [],
   "source": [
    "#take():how much we take from dataset\n",
    "#skip():usually,skip take() area \n",
    "\n",
    "train = data.take(train_size)\n",
    "val = data.skip(train_size).take(val_size)\n",
    "test = data.skip(train_size+val_size).take(test_size)"
   ]
  },
  {
   "cell_type": "markdown",
   "id": "1af82810",
   "metadata": {},
   "source": [
    "# 5.use model"
   ]
  },
  {
   "cell_type": "code",
   "execution_count": null,
   "id": "9b65e763",
   "metadata": {},
   "outputs": [],
   "source": [
    "from keras.models import load_model"
   ]
  },
  {
   "cell_type": "code",
   "execution_count": null,
   "id": "1a806fb7",
   "metadata": {},
   "outputs": [],
   "source": [
    "#保存したモデルをloadする\n",
    "#使用したいモデルの名前に置き換える。\n",
    "\n",
    "new_model = load_model('models/INSERTDESIGNATEDMODELNAME.h5')"
   ]
  },
  {
   "cell_type": "code",
   "execution_count": null,
   "id": "2cfe7b81",
   "metadata": {},
   "outputs": [],
   "source": [
    "from keras.metrics import Precision, Recall, BinaryAccuracy"
   ]
  },
  {
   "cell_type": "code",
   "execution_count": null,
   "id": "2218f069",
   "metadata": {},
   "outputs": [],
   "source": [
    "pre = Precision()\n",
    "re = Recall()\n",
    "acc = BinaryAccuracy()"
   ]
  },
  {
   "cell_type": "code",
   "execution_count": null,
   "id": "665c4a1d",
   "metadata": {},
   "outputs": [],
   "source": [
    "#精度、再現率、および二値分類精度を計算し、\n",
    "#真のラベルyと予測されたラベルyhatを比べる\n",
    "\n",
    "for batch in test.as_numpy_iterator(): \n",
    "    X, y = batch\n",
    "    yhat = new_model.predict(X) \n",
    "    pre.update_state(y, yhat)\n",
    "    re.update_state(y, yhat)\n",
    "    acc.update_state(y, yhat)"
   ]
  },
  {
   "cell_type": "code",
   "execution_count": null,
   "id": "1b805759",
   "metadata": {},
   "outputs": [],
   "source": [
    "#それぞれの出力値は1に近いほどよい\n",
    "\n",
    "print(pre.result(), re.result(), acc.result())"
   ]
  },
  {
   "cell_type": "markdown",
   "id": "b16a5e00",
   "metadata": {},
   "source": [
    "# bonus: pass single image that our model has never seen before  to verify"
   ]
  },
  {
   "cell_type": "code",
   "execution_count": null,
   "id": "b86de525",
   "metadata": {},
   "outputs": [],
   "source": [
    "import cv2\n",
    "import numpy as np\n",
    "from matplotlib import pyplot as plt"
   ]
  },
  {
   "cell_type": "code",
   "execution_count": null,
   "id": "dbd44ef7",
   "metadata": {},
   "outputs": [],
   "source": [
    "#モデルが一度も見たことがない画像1枚を渡す\n",
    "new_image=\"\" "
   ]
  },
  {
   "cell_type": "code",
   "execution_count": null,
   "id": "e7c27636",
   "metadata": {},
   "outputs": [],
   "source": [
    "#モデルが一度も見たことがない画像を出力\n",
    "\n",
    "img = cv2.imread(new_image)\n",
    "plt.imshow(cv2.cvtColor(img, cv2.COLOR_BGR2RGB))\n",
    "plt.show()"
   ]
  },
  {
   "cell_type": "code",
   "execution_count": null,
   "id": "ad8d2b7e",
   "metadata": {},
   "outputs": [],
   "source": [
    "#画像の前処理を行う\n",
    "\n",
    "resize = tf.image.resize(img, (256,256))\n",
    "plt.imshow(resize.numpy().astype(int))\n",
    "plt.show()"
   ]
  },
  {
   "cell_type": "code",
   "execution_count": null,
   "id": "fba03ab5",
   "metadata": {},
   "outputs": [],
   "source": [
    "#前処理をした画像をモデルに入力し、予測を行う。\n",
    "\n",
    "yhat = model.predict(np.expand_dims(resize/255, 0))"
   ]
  },
  {
   "cell_type": "code",
   "execution_count": null,
   "id": "3c5d3c84",
   "metadata": {},
   "outputs": [],
   "source": [
    "#予測値が 0.5 より大きい場合は、「予測されたクラスは非毒性」と表示される。\n",
    "#それ以外の場合は、「予測されたクラスは有毒」と表示。\n",
    "\n",
    "if yhat > 0.5: \n",
    "    print(f'Predicted class is NonPoison')\n",
    "else:\n",
    "    print(f'Predicted class is Poison')"
   ]
  }
 ],
 "metadata": {
  "kernelspec": {
   "display_name": "Python 3 (ipykernel)",
   "language": "python",
   "name": "python3"
  },
  "language_info": {
   "codemirror_mode": {
    "name": "ipython",
    "version": 3
   },
   "file_extension": ".py",
   "mimetype": "text/x-python",
   "name": "python",
   "nbconvert_exporter": "python",
   "pygments_lexer": "ipython3",
   "version": "3.10.11"
  }
 },
 "nbformat": 4,
 "nbformat_minor": 5
}
